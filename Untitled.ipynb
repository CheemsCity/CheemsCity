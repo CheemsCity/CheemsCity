{
 "cells": [
  {
   "cell_type": "code",
   "execution_count": null,
   "id": "203364c2-23e4-4d32-b0ac-beb48ada91e0",
   "metadata": {},
   "outputs": [],
   "source": [
    "import cv2\n",
    "import numpy as np\n",
    "import yaml\n",
    "\n",
    "from Curves import curves\n",
    "from LaneFilter import LaneFilter \n",
    "from BirdView import\n"
   ]
  },
  {
   "cell_type": "code",
   "execution_count": null,
   "id": "d86a10c0-d0e9-4464-a6d9-efaf3215c99f",
   "metadata": {},
   "outputs": [],
   "source": [
    "image = cv2.imread('test_image.png')\n",
    "#import image as array np"
   ]
  },
  {
   "cell_type": "code",
   "execution_count": null,
   "id": "f2ce5f81-9e61-4aef-8091-3962a0c5e1ef",
   "metadata": {},
   "outputs": [],
   "source": []
  }
 ],
 "metadata": {
  "kernelspec": {
   "display_name": "Python Ai env",
   "language": "python",
   "name": "other-env"
  },
  "language_info": {
   "codemirror_mode": {
    "name": "ipython",
    "version": 3
   },
   "file_extension": ".py",
   "mimetype": "text/x-python",
   "name": "python",
   "nbconvert_exporter": "python",
   "pygments_lexer": "ipython3",
   "version": "3.8.10"
  }
 },
 "nbformat": 4,
 "nbformat_minor": 5
}
