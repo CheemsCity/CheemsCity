{
 "cells": [
  {
   "cell_type": "code",
   "execution_count": 1,
   "id": "a0ac595f-4409-4050-b7c8-1011a9f52ada",
   "metadata": {},
   "outputs": [],
   "source": [
    "import time\n",
    "import cv2\n",
    "import numpy as np"
   ]
  },
  {
   "cell_type": "code",
   "execution_count": 39,
   "id": "3501256b-f354-4900-9c12-e2a159b97a2f",
   "metadata": {},
   "outputs": [],
   "source": [
    "cap = cv2.VideoCapture(0)\n",
    "width = int(cap.get(cv2.CAP_PROP_FRAME_WIDTH))\n",
    "height= int(cap.get(cv2.CAP_PROP_FRAME_HEIGHT))"
   ]
  },
  {
   "cell_type": "code",
   "execution_count": 40,
   "id": "b1a581e2-dbd9-4919-bc3b-e89607700add",
   "metadata": {},
   "outputs": [],
   "source": [
    "#https://docs.opencv.org/3.4/d4/d73/tutorial_py_contours_begin.html"
   ]
  },
  {
   "cell_type": "code",
   "execution_count": 43,
   "id": "597e5820-2fdc-453b-9cc4-61dc48be8ba7",
   "metadata": {},
   "outputs": [],
   "source": [
    "cap = cv2.VideoCapture(0)\n",
    "width = int(cap.get(cv2.CAP_PROP_FRAME_WIDTH))\n",
    "height= int(cap.get(cv2.CAP_PROP_FRAME_HEIGHT))\n",
    "while cap.isOpened(): \n",
    "    ret, frame = cap.read()\n",
    "    image = np.array(frame)\n",
    "    #roi = image[200:250, 0:width] #region of interest, da rivedere nella pratica\n",
    "    #Checks if array elements lie between the elements of two other arrays.\n",
    "    Blackline = cv2.inRange(image, (0,0,0), (50,50,50))\n",
    "    kernel = np.ones((3,3), np.uint8)\n",
    "    Blackline = cv2.erode(Blackline, kernel, iterations=5)\n",
    "    Blackline = cv2.dilate(Blackline, kernel, iterations=9)\n",
    "    contours, hierarchy = cv2.findContours(Blackline.copy(), cv2.RETR_TREE, cv2.CHAIN_APPROX_SIMPLE)\n",
    "    #cv2.Contours(image, contours, -1, (0,255,0), 3)\n",
    "    if len(contours) > 0 :\n",
    "        cnt = contours[0]\n",
    "        blackbox = cv2.minAreaRect(cnt)\n",
    "        (x_min, y_min), (w_min, h_min), ang = blackbox\n",
    "        #la funzione minArearect restituisce le coordinate del rettangolo minimo e il suo angolo di inclinazione\n",
    "        #https://theailearner.com/tag/cv2-minarearect/\n",
    "        #M = cv2.moments(cnt)\n",
    "        #cx = int(M['m10']/M['m00'])\n",
    "        #Disegna una riga nel centro della linea che sta seguendo\n",
    "        #https://www.geeksforgeeks.org/python-opencv-cv2-line-method/\n",
    "        setpoint = width/2 #centro dello schermo\n",
    "        error = int(x_min) - setpoint  #quanto la linea nera da seguire dista dallo schermo\n",
    "        ang = int(ang)\n",
    "        if ang == 90:\n",
    "            ang = ang - 90\n",
    "        #centertext = \"Error = \" + str(error)\n",
    "        box = cv2.boxPoints(blackbox) #https://docs.opencv.org/3.4/d3/dc0/group__imgproc__shape.html#gaf78d467e024b4d7936cf9397185d2f5c\n",
    "        box = np.int0(box)\n",
    "        cv2.drawContours(image, [box],0,(0,0,255),3)\n",
    "        cv2.putText(image, str(ang), (10,40), cv2.FONT_HERSHEY_SIMPLEX, 1, (0,0,255),2)\n",
    "        cv2.putText(image, str(error), (10,320), cv2.FONT_HERSHEY_SIMPLEX, 1, (255,0,0),2)\n",
    "        cv2.line(image,(int(x_min), 200),(int(x_min),250),(255,0,0),3) #Disegna una riga nel centro della linea che sta seguendo\n",
    "        #https://www.geeksforgeeks.org/python-opencv-cv2-line-method/\n",
    "    cv2.imshow(\"Image with center line\", image)\n",
    "    key = cv2.waitKey(1) & 0xFF\n",
    "    if cv2.waitKey(10) & 0xFF == ord('q'):\n",
    "        cap.release()\n",
    "        cv2.destroyAllWindows()\n",
    "        break"
   ]
  },
  {
   "cell_type": "code",
   "execution_count": 26,
   "id": "bc816eaf-5802-40c3-be1f-e59bb8e18191",
   "metadata": {},
   "outputs": [],
   "source": [
    "cap.release()"
   ]
  },
  {
   "cell_type": "markdown",
   "id": "ab0b39e7-c08f-40cb-a8ab-6d84e4436522",
   "metadata": {},
   "source": [
    "<h2>Cosa stiamo facendo?</h2>\n",
    "<b>cv2.inRange</b> prende quella parte di immagine i cui valore RGB si aggirano tra quelli inseriti, in questo caso (0,0,0) e (50,50,50). Andiamo poi a fare 2 operazioni: <b> erode</b> e <b> dilate </b>, la prima diminuisce la grandezza delle linee calcolando il minimo locale di un'area di un dato kernel, mentre il secondo ingrandisce. Obiettivo è eliminare i rumori con la prima ed evidenziare le linee rimaste con la seconda.\n",
    "Disegnamo poi i contorni con la funzione <b>drawContours</b>.\n",
    "    https://docs.opencv.org/3.4/db/df6/tutorial_erosion_dilatation.html\n",
    "    https://docs.opencv.org/3.4/d4/d73/tutorial_py_contours_begin.html\n",
    "    https://docs.opencv.org/3.4/da/d97/tutorial_threshold_inRange.html"
   ]
  },
  {
   "cell_type": "code",
   "execution_count": null,
   "id": "ecc5e0cf-b397-4d1a-bc80-01d295722ab5",
   "metadata": {},
   "outputs": [],
   "source": []
  }
 ],
 "metadata": {
  "kernelspec": {
   "display_name": "Prog1",
   "language": "python",
   "name": "prog1"
  },
  "language_info": {
   "codemirror_mode": {
    "name": "ipython",
    "version": 3
   },
   "file_extension": ".py",
   "mimetype": "text/x-python",
   "name": "python",
   "nbconvert_exporter": "python",
   "pygments_lexer": "ipython3",
   "version": "3.8.10"
  }
 },
 "nbformat": 4,
 "nbformat_minor": 5
}
