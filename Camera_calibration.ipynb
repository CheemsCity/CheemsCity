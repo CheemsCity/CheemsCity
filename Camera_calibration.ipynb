{
 "cells": [
  {
   "cell_type": "code",
   "execution_count": 2,
   "id": "014ffd45-01b6-49d0-9237-ca9e8a867f50",
   "metadata": {},
   "outputs": [],
   "source": [
    "import cv2\n",
    "from chessboard import Chessboard\n",
    "import time"
   ]
  },
  {
   "cell_type": "code",
   "execution_count": null,
   "id": "ed14948c-4c30-4268-a594-4de770c8d5a5",
   "metadata": {},
   "outputs": [],
   "source": [
    "chessboards = []\n",
    "\n",
    "cam = cv2.VideoCapture(0)\n",
    "time.sleep(5)\n",
    "for n in range (14):\n",
    "    print('collecting image {}'.format(n))\n",
    "    ret, frame = cam.read()\n",
    "    cv2.imshow('img',frame)\n",
    "    path = 'calibration' + str(n+1) + '.jpg'\n",
    "    cv2.imwrite(path,frame)\n",
    "    time.sleep(2)\n",
    "    chessboard = ChessBoard(nx = 7, ny = 6,path = path)\n",
    "    if chessboard.ret == True:\n",
    "        chessboards.append(chessboard)\n",
    "    else:\n",
    "        n = n-1\n",
    "    \n",
    "    if cv2.waitKey(1) & 0xFF == ord('q'):\n",
    "            break\n",
    "\n",
    "cap.release()\n",
    "cv2.destroyAllWindows()    "
   ]
  },
  {
   "cell_type": "code",
   "execution_count": null,
   "id": "fa90582c-5eef-457a-bacd-b606c6fbf430",
   "metadata": {},
   "outputs": [],
   "source": [
    "objpoints = []\n",
    "imgpoints = []\n",
    "shape = chessboards[0].dimensions\n",
    "for chessboard in chessboards:\n",
    "    objpoints.append(chessboard.objpoints)\n",
    "    imgpoints.append(chessboard.imgpoints)\n",
    "    \n",
    "ret, matrix, distortion_coef, rv, tv = cv2.calibrateCamera(objpoints, imgpoints, shape, None, None)"
   ]
  },
  {
   "cell_type": "code",
   "execution_count": null,
   "id": "c50f3dfc-e1f3-4e7e-b0d0-debf5337a595",
   "metadata": {},
   "outputs": [],
   "source": [
    "#salviamo i risultati della calibrazione\n",
    "#pyyaml\n",
    "import yaml\n",
    "\n",
    "calibration_data = {\n",
    "    \"camera_matrix\": matrix, \n",
    "    \"distortion_coefficient\": distortion_coef\n",
    "}\n",
    "\n",
    "\n",
    "with open('calibration_data.yml', 'w') as outfile:\n",
    "    yaml.dump(data, outfile, default_flow_style=False)"
   ]
  },
  {
   "cell_type": "code",
   "execution_count": null,
   "id": "f15301ad-b11b-4d80-a35d-4a097a8a721d",
   "metadata": {},
   "outputs": [],
   "source": []
  }
 ],
 "metadata": {
  "kernelspec": {
   "display_name": "Python Ai env",
   "language": "python",
   "name": "other-env"
  },
  "language_info": {
   "codemirror_mode": {
    "name": "ipython",
    "version": 3
   },
   "file_extension": ".py",
   "mimetype": "text/x-python",
   "name": "python",
   "nbconvert_exporter": "python",
   "pygments_lexer": "ipython3",
   "version": "3.8.10"
  }
 },
 "nbformat": 4,
 "nbformat_minor": 5
}
